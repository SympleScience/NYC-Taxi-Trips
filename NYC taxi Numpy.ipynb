{
 "cells": [
  {
   "cell_type": "markdown",
   "metadata": {},
   "source": [
    " ## NYC TAXI"
   ]
  },
  {
   "cell_type": "raw",
   "metadata": {},
   "source": [
    "Below is information about selected columns from the data set:\n",
    "\n",
    "pickup_year - The year of the trip.\n",
    "pickup_month - The month of the trip (January is 1, December is 12).\n",
    "pickup_day - The day of the month of the trip.\n",
    "pickup_location_code - The airport or borough where the the trip started, as one of eight categories:\n",
    "0 - Bronx.\n",
    "1 - Brooklyn.\n",
    "2 - JFK Airport.\n",
    "3 - LaGuardia Airport.\n",
    "4 - Manhattan.\n",
    "5 - Newark Airport.\n",
    "6 - Queens.\n",
    "7 - Staten Island.\n",
    "dropoff_location_code - The airport or borough where the the trip finished, using the same eight category codes as pickup_location_code.\n",
    "trip_distance - The distance of the trip in miles.\n",
    "trip_length - The length of the trip in seconds.\n",
    "fare_amount - The base fare of the trip, in dollars.\n",
    "total_amount - The total amount charged to the passenger, including all fees, tolls and tips.\n",
    "You can find information on all columns in the data dictionary."
   ]
  },
  {
   "cell_type": "markdown",
   "metadata": {},
   "source": [
    "## Reading the data in:"
   ]
  },
  {
   "cell_type": "code",
   "execution_count": null,
   "metadata": {},
   "outputs": [],
   "source": [
    "import numpy as np\n",
    "\n",
    "taxi = np.genfromtxt(\"nyc_taxis.csv\", delimiter=\",\", skip_header=1)\n",
    "# skip_hear parameter lets you chop off the first row (1) or column (0)\n",
    "\n",
    "print(taxi.dtype)\n",
    "\n",
    "taxi = taxi[1:]"
   ]
  },
  {
   "cell_type": "code",
   "execution_count": null,
   "metadata": {},
   "outputs": [],
   "source": [
    "#Selecting the pickup_month column\n",
    "\n",
    "pickup_month = taxi[:,1]\n",
    "\n",
    "# Creating a boolean operation for the boolean array\n",
    "\n",
    "january_bool = pickup_month == 1\n",
    "\n",
    "#using the boolean array to select only the items from pickup_month corresponding to \"1\" (January)\n",
    "\n",
    "january = pickup_month[january_bool]\n",
    "\n",
    "# Using .shape attribute to find out how many items are in the January array (equates to number of taxi rides in our data set \n",
    "# from the month of January.)\n",
    "\n",
    "january_rides = january.shape[0]\n",
    "print(january_rides)\n",
    "\n",
    "# 13481 rides for the month of jan\n",
    "\n",
    "# Collecting the same info for the feb and march:\n",
    "\n",
    "february_bool = pickup_month == 2\n",
    "february = pickup_month[february_bool]\n",
    "february_rides = february.shape[0]\n",
    "\n",
    "march_bool = pickup_month == 3\n",
    "march = pickup_month[march_bool]\n",
    "march_rides = march.shape[0]"
   ]
  },
  {
   "cell_type": "code",
   "execution_count": null,
   "metadata": {},
   "outputs": [],
   "source": [
    "# calculate the average speed\n",
    "trip_mph = taxi[:,7] / (taxi[:,8] / 3600)\n",
    "\n",
    "# create a boolean array for trips with average\n",
    "# speeds greater than 20,000 mph\n",
    "trip_mph_bool = trip_mph > 20000\n",
    "\n",
    "# use the boolean array to select the rows for\n",
    "# those trips, and the pickup_location_code,\n",
    "# dropoff_location_code, trip_distance, and\n",
    "# trip_length columns\n",
    "trips_over_20000_mph = taxi[trip_mph_bool,5:9]\n",
    "\n",
    "print(trips_over_20000_mph)"
   ]
  },
  {
   "cell_type": "code",
   "execution_count": null,
   "metadata": {},
   "outputs": [],
   "source": [
    "tip_amount = taxi[:,12]\n",
    "\n",
    "tip_bool = tip_amount > 50\n",
    "\n",
    "top_tips = taxi[tip_bool,5:14]"
   ]
  },
  {
   "cell_type": "code",
   "execution_count": null,
   "metadata": {},
   "outputs": [],
   "source": [
    "taxi_modified = taxi.copy()"
   ]
  },
  {
   "cell_type": "code",
   "execution_count": null,
   "metadata": {},
   "outputs": [],
   "source": [
    "# this creates a copy of our taxi ndarray\n",
    "taxi_modified = taxi.copy()\n",
    "\n",
    "# create a new column filled with `0`.\n",
    "zeros = np.zeros([taxi_modified.shape[0], 1])\n",
    "taxi_modified = np.concatenate([taxi, zeros], axis=1)\n",
    "print(taxi_modified)\n",
    "\n",
    "# assign the value 1 if the pickup_location_code (column index 5) corresponds to an airport location\n",
    "bool = taxi_modified[:, 5] == 2\n",
    "\n",
    "taxi_modified[bool, 15] = 1\n",
    "\n",
    "bool = taxi_modified[:, 5] == 3\n",
    "\n",
    "taxi_modified[bool, 15] = 1\n",
    "\n",
    "bool = taxi_modified[:, 5] == 5\n",
    "\n",
    "taxi_modified[bool, 15] = 1\n",
    "\n",
    "# Guide\n",
    "# c[c[:,1] > 2, 1] = 99\n",
    "\n",
    "# array[array[all rows, 2nd column] > 2, 2nd column]\n",
    "\n",
    "# bool = array[:, column_for_comparison] == value_for_comparison\n",
    "# array[bool, column_for_assignment] = new_value\n",
    "\n",
    "# array[array[:, column_for_comparison] == value_for_comparison, column_for_assignment] = new_value"
   ]
  },
  {
   "cell_type": "code",
   "execution_count": null,
   "metadata": {},
   "outputs": [],
   "source": [
    "# Evaluate the most popular airport drop off destination\n",
    "\n",
    "jfk = taxi[:, 6] == 2\n",
    "jfk_count = taxi[jfk]\n",
    "print(jfk_count.shape[0])\n",
    "\n",
    "laguardia = taxi[:, 6] == 3\n",
    "laguardia_count = taxi[laguardia]\n",
    "print(laguardia.shape[0])\n",
    "\n",
    "newark = taxi[:, 6] == 5\n",
    "newark_count = taxi[newark]\n",
    "print(\"newark count:\" + newark_count.shape[0])\n",
    "\n",
    "# 11832\n",
    "# 89560\n",
    "# 63"
   ]
  },
  {
   "cell_type": "code",
   "execution_count": null,
   "metadata": {},
   "outputs": [],
   "source": [
    "# Create a clean array that removes rows with mph above 100 (160kph)\n",
    "# Calculate the mean of: trip distance, trip length, total amount earned and the trip mph (excluding trips with > 100 mph speed)\n",
    "\n",
    "trip_mph = taxi[:,7] / (taxi[:,8] / 3600)\n",
    "\n",
    "trip_mph_bool = trip_mph < 100\n",
    "\n",
    "cleaned_taxi = taxi[trip_mph_bool, :]\n",
    "\n",
    "mean_distance = cleaned_taxi[:, 7].mean()\n",
    "\n",
    "mean_length = cleaned_taxi[:, 8].mean()\n",
    "\n",
    "mean_total_amount = cleaned_taxi[:, 13].mean() \n",
    "\n",
    "trip_mph_mod = trip_mph[trip_mph_bool]\n",
    "\n",
    "mean_mph = trip_mph_mod.mean()\n"
   ]
  }
 ],
 "metadata": {
  "kernelspec": {
   "display_name": "Python 3",
   "language": "python",
   "name": "python3"
  },
  "language_info": {
   "codemirror_mode": {
    "name": "ipython",
    "version": 3
   },
   "file_extension": ".py",
   "mimetype": "text/x-python",
   "name": "python",
   "nbconvert_exporter": "python",
   "pygments_lexer": "ipython3",
   "version": "3.6.4"
  }
 },
 "nbformat": 4,
 "nbformat_minor": 2
}
